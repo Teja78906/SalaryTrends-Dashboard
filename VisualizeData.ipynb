{
 "cells": [
  {
   "cell_type": "code",
   "execution_count": 9,
   "id": "489799ab",
   "metadata": {},
   "outputs": [
    {
     "data": {
      "text/html": [
       "\n",
       "        <iframe\n",
       "            width=\"100%\"\n",
       "            height=\"650\"\n",
       "            src=\"http://127.0.0.1:8050/\"\n",
       "            frameborder=\"0\"\n",
       "            allowfullscreen\n",
       "            \n",
       "        ></iframe>\n",
       "        "
      ],
      "text/plain": [
       "<IPython.lib.display.IFrame at 0x1c683980af0>"
      ]
     },
     "metadata": {},
     "output_type": "display_data"
    }
   ],
   "source": [
    "\n",
    "import pandas as pd\n",
    "import matplotlib.pyplot as plt\n",
    "import plotly.express as px\n",
    "import dash\n",
    "from dash import dcc, html, dash_table\n",
    "from dash.dependencies import Input, Output\n",
    "\n",
    "# Read CSV data\n",
    "data = pd.read_csv(\"salaries.csv\")\n",
    "\n",
    "# Create the line graph for job count per year\n",
    "\n",
    "job_count_per_year = data.groupby('work_year').size().reset_index(name='job_count')\n",
    "\n",
    "# Plotting the line graph using Plotly\n",
    "fig = px.line(job_count_per_year, x='work_year', y='job_count', title='Number of Jobs from 2020 to 2024')\n",
    "\n",
    "#  Dash app for interactive table\n",
    "app = dash.Dash(__name__)\n",
    "\n",
    "# Layout for the Dash app\n",
    "app.layout = html.Div([\n",
    "    dcc.Graph(id='line-graph', figure=fig), \n",
    "    html.Div(id='table-container', children=[\n",
    "        html.H3(\"Click a year on the graph to see job titles and their counts\"),\n",
    "        dash_table.DataTable(id='job-table')  \n",
    "    ])\n",
    "])\n",
    "\n",
    "# Callback to update the table based on the selected year\n",
    "@app.callback(\n",
    "    Output('job-table', 'data'),\n",
    "    [Input('line-graph', 'clickData')]\n",
    ")\n",
    "def update_table(clickData):\n",
    "    \n",
    "    if clickData:\n",
    "        year_clicked = clickData['points'][0]['x']\n",
    "        \n",
    "        filtered_data = data[data['work_year'] == year_clicked]\n",
    "        \n",
    "        aggregated_data = filtered_data.groupby('job_title').size().reset_index(name='count')\n",
    "        return aggregated_data.to_dict('records') \n",
    "    return []\n",
    "\n",
    "# Run app\n",
    "if __name__ == '__main__':\n",
    "    app.run_server(debug=True)\n",
    "\n"
   ]
  },
  {
   "cell_type": "code",
   "execution_count": null,
   "id": "31618eca",
   "metadata": {},
   "outputs": [],
   "source": []
  }
 ],
 "metadata": {
  "kernelspec": {
   "display_name": "Python 3 (ipykernel)",
   "language": "python",
   "name": "python3"
  },
  "language_info": {
   "codemirror_mode": {
    "name": "ipython",
    "version": 3
   },
   "file_extension": ".py",
   "mimetype": "text/x-python",
   "name": "python",
   "nbconvert_exporter": "python",
   "pygments_lexer": "ipython3",
   "version": "3.10.9"
  }
 },
 "nbformat": 4,
 "nbformat_minor": 5
}
